{
  "nbformat": 4,
  "nbformat_minor": 0,
  "metadata": {
    "colab": {
      "name": "shape ai project.ipynb",
      "provenance": [],
      "collapsed_sections": [],
      "authorship_tag": "ABX9TyNx0z+6KZ6n2gw7lBdTfqZh",
      "include_colab_link": true
    },
    "kernelspec": {
      "name": "python3",
      "display_name": "Python 3"
    },
    "language_info": {
      "name": "python"
    }
  },
  "cells": [
    {
      "cell_type": "markdown",
      "metadata": {
        "id": "view-in-github",
        "colab_type": "text"
      },
      "source": [
        "<a href=\"https://colab.research.google.com/github/sreejithofficial/shapeai--project-sreejith/blob/main/shape_ai_project.ipynb\" target=\"_parent\"><img src=\"https://colab.research.google.com/assets/colab-badge.svg\" alt=\"Open In Colab\"/></a>"
      ]
    },
    {
      "cell_type": "code",
      "metadata": {
        "id": "RxBsHgjRbqe9"
      },
      "source": [
        "x= open(\"shapeai1.txt \",'a')\n",
        "\n",
        "import requests\n",
        "#import os\n",
        "from datetime import datetime\n",
        "\n",
        "api_key = '2510edf7bb22bcf16e84a1165916e98c'\n",
        "location = input(\"Enter the city name: \")\n",
        "\n",
        "complete_api_link = \"https://api.openweathermap.org/data/2.5/weather?q=\"+location+\"&appid=\"+api_key\n",
        "api_link = requests.get(complete_api_link)\n",
        "api_data = api_link.json()\n",
        "\n",
        "#create variables to store and display data\n",
        "temp_city = ((api_data['main']['temp']) - 273.15)\n",
        "weather_desc = api_data['weather'][0]['description']\n",
        "hmdt = api_data['main']['humidity']\n",
        "wind_spd = api_data['wind']['speed']\n",
        "date_time = datetime.now().strftime(\"%d %b %Y | %I:%M:%S %p\")\n",
        "\n",
        "print (\"-------------------------------------------------------------\",file=x)\n",
        "print (\"Weather Stats for - {}  || {}\".format(location.upper(), date_time),file=x)\n",
        "print (\"-------------------------------------------------------------\",file=x)\n",
        "\n",
        "print (\"Current temperature is: {:.2f} deg C\".format(temp_city),file=x)\n",
        "print (\"Current weather desc  :\",weather_desc,file=x)\n",
        "print (\"Current Humidity      :\",hmdt, '%',file=x)\n",
        "print (\"Current wind speed    :\",wind_spd ,'kmph',file=x)\n",
        "\n",
        "x.close()\n",
        "\n",
        "#Enter the city name:( example: kerala , trivandrum)\n"
      ],
      "execution_count": null,
      "outputs": []
    }
  ]
}